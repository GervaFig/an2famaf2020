{
  "nbformat": 4,
  "nbformat_minor": 0,
  "metadata": {
    "colab": {
      "name": "ANII_practico_2020_08_26",
      "provenance": []
    },
    "kernelspec": {
      "name": "python3",
      "display_name": "Python 3"
    }
  },
  "cells": [
    {
      "cell_type": "markdown",
      "metadata": {
        "id": "SusxvSYl67S4",
        "colab_type": "text"
      },
      "source": [
        "\n",
        "### Introducción a Python/Numpy\n",
        "\n",
        "Probablemente ya vengan de ver varias de estas cosas (o parecidas), pero nunca viene mal un repaso de código. Recordar nuevamente, vamos a usar **Python 3**\n",
        "\n",
        "Aclaraciones: \n",
        "Para poder instalar Python, en Linux probablemente no tengan que hacer nada más que \n",
        "\n",
        "```\n",
        "sudo apt install python3\n",
        "```\n",
        "Para Windows, hay que hacer un poco más de laburo, pero la forma más sencilla de tener todo andando es instalando Anaconda: https://www.anaconda.com/products/individual#windows (elegir 64 bits). También se puede instalar Anaconda en Linux y no sería una mala idea si en el futuro quieren seguir trabajando con *Python o R*.\n",
        "\n",
        "En Colab ya vienen muchas librerías instaladas, para poder ejecutar algunas cosas en sus entornos locales, va a ser necesario instalar al menos 3 librerías que vamos a usar bastante.\n",
        "\n",
        "- Numpy (pip install numpy)\n",
        "- Scipy (pip install scipy)\n",
        "- Jupyter Notebooks (pip install jupyter)\n"
      ]
    },
    {
      "cell_type": "code",
      "metadata": {
        "id": "HULOjRnlBjRi",
        "colab_type": "code",
        "colab": {}
      },
      "source": [
        "# Estructuras básicas de Python\n",
        "variable = 4\n",
        "\n",
        "lista = [1, 2, 3, 4]\n",
        "\n",
        "tupla = (1, 2, 3)\n",
        "\n",
        "conjunto = {1, 3, 3, 2}\n",
        "\n",
        "texto = \"holi\"\n",
        "\n",
        "diccionario = {\n",
        "    \"campo1\": 1,\n",
        "    \"campo2\": \"segundo\",\n",
        "    \"campo3\": [1, 2, 3],\n",
        "}"
      ],
      "execution_count": null,
      "outputs": []
    },
    {
      "cell_type": "code",
      "metadata": {
        "id": "BW50Gv-rMFno",
        "colab_type": "code",
        "colab": {
          "base_uri": "https://localhost:8080/",
          "height": 34
        },
        "outputId": "3128d9e5-fe59-4099-bd52-284df5c2c5b6"
      },
      "source": [
        "lista[2]"
      ],
      "execution_count": null,
      "outputs": [
        {
          "output_type": "execute_result",
          "data": {
            "text/plain": [
              "3"
            ]
          },
          "metadata": {
            "tags": []
          },
          "execution_count": 93
        }
      ]
    },
    {
      "cell_type": "code",
      "metadata": {
        "id": "y10JvH386yJo",
        "colab_type": "code",
        "colab": {
          "base_uri": "https://localhost:8080/",
          "height": 193
        },
        "outputId": "f05d31c7-cdd4-46ae-9883-7fb6ecbee6ef"
      },
      "source": [
        "# bucles\n",
        "# for nos permite hacer operaciones mientras dure el objeto\n",
        "# sobre el cual estoy iterando (la definición de iterable\n",
        "# de Python es un poco extensa)\n",
        "for indice in range(10):\n",
        "    print(indice)"
      ],
      "execution_count": null,
      "outputs": [
        {
          "output_type": "stream",
          "text": [
            "0\n",
            "1\n",
            "2\n",
            "3\n",
            "4\n",
            "5\n",
            "6\n",
            "7\n",
            "8\n",
            "9\n"
          ],
          "name": "stdout"
        }
      ]
    },
    {
      "cell_type": "code",
      "metadata": {
        "id": "lUTtouQ09KrT",
        "colab_type": "code",
        "colab": {
          "base_uri": "https://localhost:8080/",
          "height": 193
        },
        "outputId": "ad14c35a-e72a-4093-f208-a2d608aa0534"
      },
      "source": [
        "# deposito numero en variable indice\n",
        "indice = 0\n",
        "# while deja de ejecutar cuando la clausula evalúa False\n",
        "while indice < 10:\n",
        "    print(indice)\n",
        "    indice = indice + 1"
      ],
      "execution_count": null,
      "outputs": [
        {
          "output_type": "stream",
          "text": [
            "0\n",
            "1\n",
            "2\n",
            "3\n",
            "4\n",
            "5\n",
            "6\n",
            "7\n",
            "8\n",
            "9\n"
          ],
          "name": "stdout"
        }
      ]
    },
    {
      "cell_type": "code",
      "metadata": {
        "id": "S2f5rR2584MS",
        "colab_type": "code",
        "colab": {
          "base_uri": "https://localhost:8080/",
          "height": 193
        },
        "outputId": "2d3d3cb4-0902-4463-af7c-5cf091c10866"
      },
      "source": [
        "# if\n",
        "for indice in range(10):\n",
        "    # Si pasa algo, entonces ejecutá una acción\n",
        "    if indice % 3 == 0:\n",
        "        print(indice)\n",
        "    # Si, en cambio, pasa otra cosa, ejecutá una acción\n",
        "    elif indice % 3 == 1:\n",
        "        print(\"si le restamos 1 lo imprimo...\")\n",
        "    # Si no pasó nada de lo anterior, ejecutá lo siguiente\n",
        "    # Podemos hacer if -> else, no es necesario que exista un 'elif'\n",
        "    else:\n",
        "        print(\"sumale 1 y hablamos\")"
      ],
      "execution_count": null,
      "outputs": [
        {
          "output_type": "stream",
          "text": [
            "0\n",
            "si le restamos 1 lo imprimo...\n",
            "sumale 1 y hablamos\n",
            "3\n",
            "si le restamos 1 lo imprimo...\n",
            "sumale 1 y hablamos\n",
            "6\n",
            "si le restamos 1 lo imprimo...\n",
            "sumale 1 y hablamos\n",
            "9\n"
          ],
          "name": "stdout"
        }
      ]
    },
    {
      "cell_type": "code",
      "metadata": {
        "id": "u84_-O1p9Cvc",
        "colab_type": "code",
        "colab": {}
      },
      "source": [
        "# Definir funciones\n",
        "def imprimir(texto=\"hola\"):\n",
        "    print(texto)"
      ],
      "execution_count": null,
      "outputs": []
    },
    {
      "cell_type": "code",
      "metadata": {
        "id": "YqrgKztk_wVn",
        "colab_type": "code",
        "colab": {
          "base_uri": "https://localhost:8080/",
          "height": 34
        },
        "outputId": "9709a523-1a08-49e2-9c31-40011a14a695"
      },
      "source": [
        "imprimir(\"holi\")"
      ],
      "execution_count": null,
      "outputs": [
        {
          "output_type": "stream",
          "text": [
            "holi\n"
          ],
          "name": "stdout"
        }
      ]
    },
    {
      "cell_type": "code",
      "metadata": {
        "id": "b6bCczQ6_x_D",
        "colab_type": "code",
        "colab": {
          "base_uri": "https://localhost:8080/",
          "height": 34
        },
        "outputId": "44aa1ae8-65e2-4d5a-dfde-5091d08a6e94"
      },
      "source": [
        "imprimir()"
      ],
      "execution_count": null,
      "outputs": [
        {
          "output_type": "stream",
          "text": [
            "hola\n"
          ],
          "name": "stdout"
        }
      ]
    },
    {
      "cell_type": "markdown",
      "metadata": {
        "id": "92ZpntsVAET3",
        "colab_type": "text"
      },
      "source": [
        "### Pasemos a Numpy!\n"
      ]
    },
    {
      "cell_type": "code",
      "metadata": {
        "id": "0Mrwy9iI_0iQ",
        "colab_type": "code",
        "colab": {
          "base_uri": "https://localhost:8080/",
          "height": 34
        },
        "outputId": "3e18cdc5-d85a-4b67-bd34-0a2d5ad89388"
      },
      "source": [
        "import numpy as np\n",
        "# Cada bicho con el que trabajemos se va a generar como un Numpy Array\n",
        "# Un vector es un array de una dimension\n",
        "np.array([1, 2, 3, 4])\n"
      ],
      "execution_count": null,
      "outputs": [
        {
          "output_type": "execute_result",
          "data": {
            "text/plain": [
              "array([1, 2, 3, 4])"
            ]
          },
          "metadata": {
            "tags": []
          },
          "execution_count": 15
        }
      ]
    },
    {
      "cell_type": "code",
      "metadata": {
        "id": "84q-w54ZBINt",
        "colab_type": "code",
        "colab": {
          "base_uri": "https://localhost:8080/",
          "height": 52
        },
        "outputId": "3890dd8c-5f4e-4f3a-89ae-59ff18d55c9a"
      },
      "source": [
        "# Una matriz será un array de 2 dimensiones, que se va a hacer con listas dentro\n",
        "# de otras listas, definiendo por filas.\n",
        "np.array([[1., 0], [0, 1]])"
      ],
      "execution_count": null,
      "outputs": [
        {
          "output_type": "execute_result",
          "data": {
            "text/plain": [
              "array([[1., 0.],\n",
              "       [0., 1.]])"
            ]
          },
          "metadata": {
            "tags": []
          },
          "execution_count": 72
        }
      ]
    },
    {
      "cell_type": "code",
      "metadata": {
        "id": "seEQlGPsCZhl",
        "colab_type": "code",
        "colab": {
          "base_uri": "https://localhost:8080/",
          "height": 105
        },
        "outputId": "c38e6744-5034-4bf0-b4db-82ccaa560250"
      },
      "source": [
        "# Tenemos algunas matrices y vectores de mucha fama, como la identidad\n",
        "np.eye(5)\n"
      ],
      "execution_count": null,
      "outputs": [
        {
          "output_type": "execute_result",
          "data": {
            "text/plain": [
              "array([[1., 0., 0., 0., 0.],\n",
              "       [0., 1., 0., 0., 0.],\n",
              "       [0., 0., 1., 0., 0.],\n",
              "       [0., 0., 0., 1., 0.],\n",
              "       [0., 0., 0., 0., 1.]])"
            ]
          },
          "metadata": {
            "tags": []
          },
          "execution_count": 71
        }
      ]
    },
    {
      "cell_type": "code",
      "metadata": {
        "id": "AJYmL16XDPmu",
        "colab_type": "code",
        "colab": {
          "base_uri": "https://localhost:8080/",
          "height": 70
        },
        "outputId": "2d91b529-8e96-4b99-b79e-3cd23b6f736b"
      },
      "source": [
        "# Todos ceros (tupla de forma)\n",
        "np.zeros((3, 3))"
      ],
      "execution_count": null,
      "outputs": [
        {
          "output_type": "execute_result",
          "data": {
            "text/plain": [
              "array([[0., 0., 0.],\n",
              "       [0., 0., 0.],\n",
              "       [0., 0., 0.]])"
            ]
          },
          "metadata": {
            "tags": []
          },
          "execution_count": 75
        }
      ]
    },
    {
      "cell_type": "code",
      "metadata": {
        "id": "q8GxcV2oDWtZ",
        "colab_type": "code",
        "colab": {
          "base_uri": "https://localhost:8080/",
          "height": 263
        },
        "outputId": "608d50d4-25cd-406d-8710-f12d61496a9d"
      },
      "source": [
        "# Puedo hacer diferentes cosas con el array\n",
        "mat = np.array([[1, 2, 3], [4, 5, 6]])\n",
        "print(mat)\n",
        "print(\"Elemento (1,1): {}\".format(mat[0, 0]))\n",
        "print(\"Segunda columna: {}\".format(mat[:, 1]))\n",
        "print(\"Primera fila: {}\".format(mat[0, :]))\n",
        "print(\"Filas y columnas de mat: {}\".format(mat.shape))\n",
        "print(\"Transpuesta de mat:\\n{}\".format(mat.T))\n",
        "print(\"Otra forma de transponer:\\n{}\".format(np.transpose(mat)))"
      ],
      "execution_count": null,
      "outputs": [
        {
          "output_type": "stream",
          "text": [
            "[[1 2 3]\n",
            " [4 5 6]]\n",
            "Elemento (1,1): 1\n",
            "Segunda columna: [2 5]\n",
            "Primera fila: [1 2 3]\n",
            "Filas y columnas de mat: (2, 3)\n",
            "Transpuesta de mat:\n",
            "[[1 4]\n",
            " [2 5]\n",
            " [3 6]]\n",
            "Otra forma de transponer:\n",
            "[[1 4]\n",
            " [2 5]\n",
            " [3 6]]\n"
          ],
          "name": "stdout"
        }
      ]
    },
    {
      "cell_type": "code",
      "metadata": {
        "id": "7kzRrUcNA5YN",
        "colab_type": "code",
        "colab": {}
      },
      "source": [
        "# Práctico 1, ejercicio 1!!!\n",
        "A00 = np.array([[1], [2]])\n",
        "A01 = np.array([[3, 2], [1, 1]])\n",
        "A10 = np.array([[-1]])\n",
        "A11 = np.array([[0, 1]])"
      ],
      "execution_count": null,
      "outputs": []
    },
    {
      "cell_type": "code",
      "metadata": {
        "id": "v5yF_aG5Q4jn",
        "colab_type": "code",
        "colab": {
          "base_uri": "https://localhost:8080/",
          "height": 122
        },
        "outputId": "bd06bf02-b54f-4529-d15c-28582340de99"
      },
      "source": [
        "print(A00)\n",
        "print(A01)\n",
        "print(A10)\n",
        "print(A11)"
      ],
      "execution_count": null,
      "outputs": [
        {
          "output_type": "stream",
          "text": [
            "[[1]\n",
            " [2]]\n",
            "[[3 2]\n",
            " [1 1]]\n",
            "[[-1]]\n",
            "[[0 1]]\n"
          ],
          "name": "stdout"
        }
      ]
    },
    {
      "cell_type": "code",
      "metadata": {
        "id": "vUNeSg-zAiJ6",
        "colab_type": "code",
        "colab": {
          "base_uri": "https://localhost:8080/",
          "height": 70
        },
        "outputId": "740e9940-5521-4361-a24f-2dcd397d1add"
      },
      "source": [
        "A = np.block([[A00, A01], [A10, A11]])\n",
        "A"
      ],
      "execution_count": null,
      "outputs": [
        {
          "output_type": "execute_result",
          "data": {
            "text/plain": [
              "array([[ 1,  3,  2],\n",
              "       [ 2,  1,  1],\n",
              "       [-1,  0,  1]])"
            ]
          },
          "metadata": {
            "tags": []
          },
          "execution_count": 33
        }
      ]
    },
    {
      "cell_type": "code",
      "metadata": {
        "id": "HuIgNweaAjAY",
        "colab_type": "code",
        "colab": {}
      },
      "source": [
        "B00 = np.array([[1]])\n",
        "B01 = np.array([[0, 1]])\n",
        "B10 = np.array([[2], [-1]])\n",
        "B11 = np.array([[1, 1], [2, 0]])"
      ],
      "execution_count": null,
      "outputs": []
    },
    {
      "cell_type": "code",
      "metadata": {
        "id": "npw-TWEBFGEy",
        "colab_type": "code",
        "colab": {
          "base_uri": "https://localhost:8080/",
          "height": 70
        },
        "outputId": "56481193-f0a8-4586-fa8c-85c4788967e4"
      },
      "source": [
        "B = np.block([[B00, B01], [B10, B11]])\n",
        "B"
      ],
      "execution_count": null,
      "outputs": [
        {
          "output_type": "execute_result",
          "data": {
            "text/plain": [
              "array([[ 1,  0,  1],\n",
              "       [ 2,  1,  1],\n",
              "       [-1,  2,  0]])"
            ]
          },
          "metadata": {
            "tags": []
          },
          "execution_count": 81
        }
      ]
    },
    {
      "cell_type": "code",
      "metadata": {
        "id": "0P_xk4m5FNkj",
        "colab_type": "code",
        "colab": {
          "base_uri": "https://localhost:8080/",
          "height": 70
        },
        "outputId": "de3e9cb1-3ffc-42ab-d3c7-5b9560f14ce3"
      },
      "source": [
        "A @ B"
      ],
      "execution_count": null,
      "outputs": [
        {
          "output_type": "execute_result",
          "data": {
            "text/plain": [
              "array([[ 5,  7,  4],\n",
              "       [ 3,  3,  3],\n",
              "       [-2,  2, -1]])"
            ]
          },
          "metadata": {
            "tags": []
          },
          "execution_count": 82
        }
      ]
    },
    {
      "cell_type": "markdown",
      "metadata": {
        "id": "2xeFqJaHHzKv",
        "colab_type": "text"
      },
      "source": [
        "###EXTRA\n",
        "Por qué hacemos las cosas lo menos \"elemento a elemento\" posible?"
      ]
    },
    {
      "cell_type": "code",
      "metadata": {
        "id": "znfJ-nkNFnE7",
        "colab_type": "code",
        "colab": {
          "base_uri": "https://localhost:8080/",
          "height": 52
        },
        "outputId": "16aa827b-b2a9-45d8-c3d2-aa620e2b3891"
      },
      "source": [
        "%%timeit\n",
        "A @ B"
      ],
      "execution_count": null,
      "outputs": [
        {
          "output_type": "stream",
          "text": [
            "The slowest run took 43.20 times longer than the fastest. This could mean that an intermediate result is being cached.\n",
            "1000000 loops, best of 3: 1.08 µs per loop\n"
          ],
          "name": "stdout"
        }
      ]
    },
    {
      "cell_type": "code",
      "metadata": {
        "id": "CRyRXXFDF7lY",
        "colab_type": "code",
        "colab": {
          "base_uri": "https://localhost:8080/",
          "height": 52
        },
        "outputId": "9b09b0d6-6a08-4a52-e501-d14257f657e1"
      },
      "source": [
        "%%timeit\n",
        "C = np.empty((3, 3))\n",
        "for fila in range(C.shape[0]):\n",
        "    for columna in range(C.shape[1]):\n",
        "        C[fila, columna] = np.dot(A[fila, :], B[:, columna])"
      ],
      "execution_count": null,
      "outputs": [
        {
          "output_type": "stream",
          "text": [
            "The slowest run took 16.00 times longer than the fastest. This could mean that an intermediate result is being cached.\n",
            "100000 loops, best of 3: 18.7 µs per loop\n"
          ],
          "name": "stdout"
        }
      ]
    },
    {
      "cell_type": "code",
      "metadata": {
        "id": "cIZmXA-_Gdct",
        "colab_type": "code",
        "colab": {
          "base_uri": "https://localhost:8080/",
          "height": 70
        },
        "outputId": "a468775b-49b6-4752-8287-38315e09abc7"
      },
      "source": [
        "\n",
        "C"
      ],
      "execution_count": null,
      "outputs": [
        {
          "output_type": "execute_result",
          "data": {
            "text/plain": [
              "array([[ 5.,  7.,  4.],\n",
              "       [ 3.,  3.,  3.],\n",
              "       [-2.,  2., -1.]])"
            ]
          },
          "metadata": {
            "tags": []
          },
          "execution_count": 85
        }
      ]
    },
    {
      "cell_type": "code",
      "metadata": {
        "id": "5U4Kdtr8Ge_v",
        "colab_type": "code",
        "colab": {
          "base_uri": "https://localhost:8080/",
          "height": 34
        },
        "outputId": "28e587f5-9541-4f31-a48f-d0746b33e2b4"
      },
      "source": [
        "%%timeit\n",
        "C = np.empty((3, 3))\n",
        "for fila in range(C.shape[0]):\n",
        "    for columna in range(C.shape[1]):\n",
        "        C[fila, columna] = 0\n",
        "        for idx in range(A.shape[1]):\n",
        "            C[fila, columna] += A[fila, idx] * B[idx, columna]\n",
        "            "
      ],
      "execution_count": null,
      "outputs": [
        {
          "output_type": "stream",
          "text": [
            "10000 loops, best of 3: 31 µs per loop\n"
          ],
          "name": "stdout"
        }
      ]
    },
    {
      "cell_type": "code",
      "metadata": {
        "id": "puRdghO3Htsw",
        "colab_type": "code",
        "colab": {
          "base_uri": "https://localhost:8080/",
          "height": 70
        },
        "outputId": "158231b3-d837-4705-9745-27e29d219dff"
      },
      "source": [
        "C"
      ],
      "execution_count": null,
      "outputs": [
        {
          "output_type": "execute_result",
          "data": {
            "text/plain": [
              "array([[ 5.,  7.,  4.],\n",
              "       [ 3.,  3.,  3.],\n",
              "       [-2.,  2., -1.]])"
            ]
          },
          "metadata": {
            "tags": []
          },
          "execution_count": 48
        }
      ]
    },
    {
      "cell_type": "code",
      "metadata": {
        "id": "TkLcaLYeHvGO",
        "colab_type": "code",
        "colab": {
          "base_uri": "https://localhost:8080/",
          "height": 527
        },
        "outputId": "41a924fd-ddac-48a7-97fb-5332c0f4b64d"
      },
      "source": [
        "whos"
      ],
      "execution_count": null,
      "outputs": [
        {
          "output_type": "stream",
          "text": [
            "Variable      Type        Data/Info\n",
            "-----------------------------------\n",
            "A             ndarray     3x3: 9 elems, type `int64`, 72 bytes\n",
            "A00           ndarray     2x1: 2 elems, type `int64`, 16 bytes\n",
            "A01           ndarray     2x2: 4 elems, type `int64`, 32 bytes\n",
            "A10           ndarray     1x1: 1 elems, type `int64`, 8 bytes\n",
            "A11           ndarray     1x2: 2 elems, type `int64`, 16 bytes\n",
            "A12           ndarray     2x2: 4 elems, type `int64`, 32 bytes\n",
            "A21           ndarray     1x1: 1 elems, type `int64`, 8 bytes\n",
            "A22           ndarray     1x2: 2 elems, type `int64`, 16 bytes\n",
            "B             ndarray     3x3: 9 elems, type `int64`, 72 bytes\n",
            "B00           ndarray     1x1: 1 elems, type `int64`, 8 bytes\n",
            "B01           ndarray     1x2: 2 elems, type `int64`, 16 bytes\n",
            "B10           ndarray     2x1: 2 elems, type `int64`, 16 bytes\n",
            "B11           ndarray     2x2: 4 elems, type `int64`, 32 bytes\n",
            "C             ndarray     3x3: 9 elems, type `float64`, 72 bytes\n",
            "columna       int         2\n",
            "conjunto      set         {1, 2, 3}\n",
            "diccionario   dict        n=3\n",
            "fila          int         2\n",
            "idx           int         2\n",
            "imprimir      function    <function imprimir at 0x7f33c856e1e0>\n",
            "indice        int         10\n",
            "lista         list        n=4\n",
            "mat           ndarray     2x3: 6 elems, type `int64`, 48 bytes\n",
            "np            module      <module 'numpy' from '/us<...>kages/numpy/__init__.py'>\n",
            "texto         str         holi\n",
            "tupla         tuple       n=3\n",
            "variable      int         4\n"
          ],
          "name": "stdout"
        }
      ]
    },
    {
      "cell_type": "code",
      "metadata": {
        "id": "nb6n5F9EcYD3",
        "colab_type": "code",
        "colab": {}
      },
      "source": [
        ""
      ],
      "execution_count": null,
      "outputs": []
    }
  ]
}